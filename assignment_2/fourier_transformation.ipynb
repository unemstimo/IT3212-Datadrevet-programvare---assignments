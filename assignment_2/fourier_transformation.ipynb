{
 "cells": [
  {
   "cell_type": "markdown",
   "metadata": {},
   "source": [
    "# Fourier Transform\n",
    "\n",
    "1. Load a grayscale image and apply the 2D Discrete Fourier Transform (DFT) to it. Visualize\n",
    "the original image and its frequency spectrum (magnitude). Submit the images, and\n",
    "explanation.\n",
    "\n",
    "2. Implement a low-pass filter in the frequency domain to remove high-frequency noise from\n",
    "an image. Compare the filtered image with the original image. Submit images, and analysis\n",
    "of the results.\n",
    "\n",
    "3. Implement a high-pass filter to enhance the edges in an image. Visualize the filtered image\n",
    "and discuss the effects observed. Submit images, and explanation.\n",
    "\n",
    "4. Implement an image compression technique using Fourier Transform by selectively keeping\n",
    "only a certain percentage of the Fourier coefficients. Evaluate the quality of the\n",
    "reconstructed image as you vary the percentage of coefficients used. Submit the images,\n",
    "and your observations on image quality and compression ratio."
   ]
  },
  {
   "cell_type": "markdown",
   "metadata": {},
   "source": []
  }
 ],
 "metadata": {
  "language_info": {
   "name": "python"
  }
 },
 "nbformat": 4,
 "nbformat_minor": 2
}
